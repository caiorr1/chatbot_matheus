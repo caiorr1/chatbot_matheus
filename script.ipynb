{
 "cells": [
  {
   "cell_type": "code",
   "execution_count": 1,
   "metadata": {},
   "outputs": [
    {
     "name": "stdout",
     "output_type": "stream",
     "text": [
      "200\n",
      "{'input_features': {'Age': 30, 'BMI': 25, 'BloodPressure': 80, 'DiabetesPedigreeFunction': 0.5, 'Glucose': 120, 'Insulin': 40, 'Pregnancies': 5, 'SkinThickness': 30}, 'prediction': 0}\n"
     ]
    }
   ],
   "source": [
    "import requests\n",
    "\n",
    "url = \"http://127.0.0.1:5000/predict\"  \n",
    "data = {\n",
    "    \"Pregnancies\": 5,\n",
    "    \"Glucose\": 120,\n",
    "    \"BloodPressure\": 80,\n",
    "    \"SkinThickness\": 30,\n",
    "    \"Insulin\": 40,\n",
    "    \"BMI\": 25,\n",
    "    \"DiabetesPedigreeFunction\": 0.5,\n",
    "    \"Age\": 30,\n",
    "}\n",
    "\n",
    "response = requests.post(url, json=data)\n",
    "\n",
    "print(response.status_code)\n",
    "print(response.json())\n"
   ]
  }
 ],
 "metadata": {
  "kernelspec": {
   "display_name": "Python 3",
   "language": "python",
   "name": "python3"
  },
  "language_info": {
   "codemirror_mode": {
    "name": "ipython",
    "version": 3
   },
   "file_extension": ".py",
   "mimetype": "text/x-python",
   "name": "python",
   "nbconvert_exporter": "python",
   "pygments_lexer": "ipython3",
   "version": "3.11.6"
  }
 },
 "nbformat": 4,
 "nbformat_minor": 2
}
